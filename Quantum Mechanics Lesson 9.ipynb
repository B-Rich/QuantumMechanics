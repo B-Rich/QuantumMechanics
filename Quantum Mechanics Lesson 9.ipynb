{
 "cells": [
  {
   "cell_type": "code",
   "execution_count": 1,
   "metadata": {
    "scrolled": true
   },
   "outputs": [
    {
     "data": {
      "text/latex": [
       "\\begin{align}\n",
       "\\newcommand{ket}[1]{\\left|{#1}\\right\\rangle}\n",
       "\\end{align}"
      ],
      "text/plain": [
       "<IPython.core.display.Latex object>"
      ]
     },
     "metadata": {},
     "output_type": "display_data"
    }
   ],
   "source": [
    "%%latex\n",
    "\\begin{align}\n",
    "\\newcommand{ket}[1]{\\left|{#1}\\right\\rangle}\n",
    "\\end{align}"
   ]
  },
  {
   "cell_type": "markdown",
   "metadata": {},
   "source": [
    "# Quantum Mechanics Lesson 9 States, Amplitudes, and Probabilities\n",
    "https://www.thegreatcoursesplus.com/quantum-mechanics/states-amplitudes-and-probabilities\n",
    "\n",
    "## Terms\n",
    "\n",
    "#### System\n",
    "- any part of the quantum world considered in itself\n",
    "\n",
    "#### State\n",
    "- a physical situation of some quantum system\n",
    "- symbol is a ket: $$\\ket{state}$$\n",
    "\n",
    "#### Basis\n",
    "- set of distinct states that cover all of the possible results of some measurement\n",
    "- ex. photon in interferometer, either in upper or lower beam:\n",
    "$$ \\begin{align} \\ket{upper} \\\\ \\ket{lower} \\end{align} $$\n",
    "- because there is more than one possible type of measurement one can make on a system, there is more than one basis for any quantum system\n",
    " \n",
    "#### Superposition states\n",
    "- In interferometer:\n",
    " - basis where the photon is in upper beam\n",
    " - basis where the photon is in the lower beam\n",
    " - superposition state where photon is occupying both beams\n",
    "- written as sum of basis states with amplitudes ($a$ and $b$ are amplitudes):\n",
    "$$\\ket{superposition\\,state} = a\\ket{upper} + b\\ket{lower}$$"
   ]
  },
  {
   "cell_type": "markdown",
   "metadata": {},
   "source": [
    "## Remarks\n",
    "- Quantum systems typically make use of imaginary numbers but those will be ignored for this class\n",
    "- Convenient number $s$ (only for this course)\n",
    "\\begin{align}\n",
    "s &= \\sqrt{\\frac12} \\\\\n",
    "s &= 0.7071... \\\\\n",
    "s^2 &= \\frac12\n",
    "\\end{align}"
   ]
  },
  {
   "cell_type": "markdown",
   "metadata": {},
   "source": [
    "## Rules\n",
    "\n",
    "#### rule of superposition\n",
    "- A superposition of two or more basis quantum states is also a quantum state\n",
    "- superposition states are \"just as good\" as basis states\n",
    " - can have many different choices of amplitude for the superposition\n",
    "\n",
    "#### rule of probabilities \"Born rule\"\n",
    "- the wave intensity determines the particle probability\n",
    "- the intensity of the wave at any location determines the probability that the particle will be found there\n",
    "- if we make a measurement, the proability is determined by the amplitude according to the formula:\n",
    " $$ probability = |amplitude|^2 $$\n",
    "- because of absolute value, both positive and negative amplitude give positive probability\n",
    "- ex: given photon state: $$ a\\ket{upper} + b\\ket{lower} $$\n",
    "  probability that photon will be measured in upper state is: $$ P(upper) = |a|^2 $$\n",
    "  lower beam probability is then: $$ P(lower) = |b|^2 $$\n",
    "- probability of sum of all states must be 1: $$ |a|^2 + |b|^2 = 1 $$\n",
    "- Given photon state $ s\\ket{upper} + s\\ket{lower} $ each beam must have $ P = |s|^2 = \\frac12 $  \n",
    "  The same is true for photon state $ s\\ket{upper} - s\\ket{lower} $ because $ |s|^2 = |{-s}|^2 = \\frac12 $\n",
    " - these are not the same quantum state but they predict the same probabilities"
   ]
  },
  {
   "cell_type": "markdown",
   "metadata": {},
   "source": [
    "## Update Rules\n",
    "\n",
    "#### update rule 1 (no measurement)\n",
    "- when there is no measurement on a quantum system, the state changes in a definite way that maintains any superposition\n",
    " - no randomness in the way the state changes\n",
    " - change of quantum state respects superposition\n",
    "\n",
    "#### update rule 2 (measurement)\n",
    "- when there is a measurement on a quantum system, the result determines the new state\n",
    "- the state is updated randomly depending on the outcome\n",
    "- interferometer example:\n",
    "$$ a\\ket{upper} + b\\ket{lower} $$\n",
    "  measurement finds photon in upper beam  \n",
    "  <center> $ \\ket{new\\,state} = \\ket{upper} $ with $ P = |a|^2 $ </center>  \n",
    "  measurement finds photon in lower beam  \n",
    "  <center> $\\ket{new\\,state} = \\ket{lower} $ with $ P = |b|^2 $ </center>"
   ]
  },
  {
   "cell_type": "markdown",
   "metadata": {},
   "source": [
    "## Photon in Interferometer\n",
    "The beam starts in the $\\ket{upper}$ state\n",
    "$$ \\ket{upper} $$\n",
    "The beam strikes the first beamsplitter (striking glass first, not coating). The state is updated to a superposition state of $\\ket{upper}$ and $\\ket{lower}$ each with $\\frac12$ probability. Since the amplitude is the square root of the probability, the amplitude for each basis state should be $\\sqrt{\\frac12}$ or $s$\n",
    "$$\\ket{upper} \\rightarrow s\\ket{upper} + s\\ket{lower} $$\n",
    "If the beam were to strike the coating side of the beamsplitter first (because it's starting as $\\ket{lower}$ instead, one state, in this case the $\\ket{lower}$ would get negative amplitude.\n",
    "$$ \\ket{lower} \\rightarrow s\\ket{upper} - s\\ket{lower} $$\n",
    "All of this is update rule 1, no measurement has been made\n",
    "\n",
    "#### Analysis (no measurement)\n",
    "The initial state is\n",
    "$$ \\ket{upper} $$\n",
    "The beam strikes the beamsplitter on the glass side, creating a superposition state\n",
    "$$ \\ket{upper} \\rightarrow s\\ket{upper} + s\\ket{lower} $$\n",
    "The beam recombines at the second beamsplitter. The $\\ket{upper}$ beam strikes the glass side of the beamsplitter and the $\\ket{lower}$ beam strikes the coating side of the beamsplitter, which gives it negative amplitude. We maintain superposition and apply the update rule to each term in the superposition independantly.\n",
    "$$ s\\ket{upper} \\rightarrow s(s\\ket{upper} + s\\ket{lower}) $$\n",
    "$$ s\\ket{lower} \\rightarrow s(s\\ket{upper} - s\\ket{lower}) $$\n",
    "The new superposition is then\n",
    "$$ s(s\\ket{upper} + s\\ket{lower}) + s(s\\ket{upper} - s\\ket{lower}) $$\n",
    "So we can simplify using normal algebra\n",
    "$$ s^2\\ket{upper} + s^2\\ket{lower} + s^2\\ket{upper} - s^2\\ket{lower} $$\n",
    "$$ (s^2 + s^2)\\ket{upper} + (s^2 - s^2)\\ket{lower} $$\n",
    "The $\\ket{lower}$ terms cancel out and we're left with\n",
    "$$ 2s^2\\ket{upper} $$\n",
    "Since $s = \\sqrt{\\frac12}$ and $s^2 = \\frac12$ The final result is\n",
    "$$ \\ket{upper} $$\n",
    "Therefore, upon exiting the interferometer, the photon can only be in the upper beam."
   ]
  },
  {
   "cell_type": "markdown",
   "metadata": {},
   "source": [
    "## Conclusions\n",
    "Constructive and destructive interference apply to the amplitudes.  It's the amplitudes that keep track of the photon's wave properties.  The $\\ket{lower}$ amplitudes cancelled out through destructive interference and the $\\ket{upper}$ amplitudes augmented each other though constructive interference.\n",
    "\n",
    "Photon can be in either the upper or the lower beam or in a superposition of the upper and lower beams.  Being in the uppper or lower beams or being in the superposition of both are all equally legitimate in quantum theory."
   ]
  }
 ],
 "metadata": {
  "kernelspec": {
   "display_name": "Python 3",
   "language": "python",
   "name": "python3"
  },
  "language_info": {
   "codemirror_mode": {
    "name": "ipython",
    "version": 3
   },
   "file_extension": ".py",
   "mimetype": "text/x-python",
   "name": "python",
   "nbconvert_exporter": "python",
   "pygments_lexer": "ipython3",
   "version": "3.6.2"
  }
 },
 "nbformat": 4,
 "nbformat_minor": 2
}
